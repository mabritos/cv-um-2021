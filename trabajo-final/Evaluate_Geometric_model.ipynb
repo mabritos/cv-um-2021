{
  "nbformat": 4,
  "nbformat_minor": 0,
  "metadata": {
    "kernelspec": {
      "display_name": "Python 3",
      "language": "python",
      "name": "python3"
    },
    "language_info": {
      "codemirror_mode": {
        "name": "ipython",
        "version": 3
      },
      "file_extension": ".py",
      "mimetype": "text/x-python",
      "name": "python",
      "nbconvert_exporter": "python",
      "pygments_lexer": "ipython3",
      "version": "3.6.8"
    },
    "colab": {
      "name": "Evaluate Geometric model.ipynb",
      "provenance": [],
      "collapsed_sections": [],
      "include_colab_link": true
    }
  },
  "cells": [
    {
      "cell_type": "markdown",
      "metadata": {
        "id": "view-in-github",
        "colab_type": "text"
      },
      "source": [
        "<a href=\"https://colab.research.google.com/github/nicolasrondan/cv-um-2021/blob/main/trabajo-final/Evaluate_Geometric_model.ipynb\" target=\"_parent\"><img src=\"https://colab.research.google.com/assets/colab-badge.svg\" alt=\"Open In Colab\"/></a>"
      ]
    },
    {
      "cell_type": "code",
      "metadata": {
        "id": "-_2_xYDyjKbh"
      },
      "source": [
        "#@title \n",
        "from google.colab import drive\n",
        "drive.mount('/content/drive')"
      ],
      "execution_count": null,
      "outputs": []
    },
    {
      "cell_type": "code",
      "metadata": {
        "id": "2agCKydkjL2W"
      },
      "source": [
        "%cd /content/drive/MyDrive/Clases-UM/2021/Trabajo\\ Final/Trabajo\\ Final\\ Solucion"
      ],
      "execution_count": null,
      "outputs": []
    },
    {
      "cell_type": "code",
      "metadata": {
        "id": "KUpeSEUHdXHN"
      },
      "source": [
        "import cv2\n",
        "import numpy as np\n",
        "import matplotlib.pyplot as plt\n",
        "from sklearn.metrics import mean_squared_error"
      ],
      "execution_count": null,
      "outputs": []
    },
    {
      "cell_type": "code",
      "metadata": {
        "id": "WoZOuAJBjOZ_"
      },
      "source": [
        "input_image = './images/football.png'\n",
        "image = cv2.imread(input_image,cv2.IMREAD_COLOR)\n",
        "image = cv2.cvtColor(image,cv2.COLOR_BGR2RGB)"
      ],
      "execution_count": null,
      "outputs": []
    },
    {
      "cell_type": "code",
      "metadata": {
        "id": "qxiO-rdVdXHQ"
      },
      "source": [
        "ground_truth = [[10,22],[134,16],[257,9],[266,178],[141,186],[19,192]]"
      ],
      "execution_count": null,
      "outputs": []
    },
    {
      "cell_type": "code",
      "metadata": {
        "id": "D0kQElwXdXHR"
      },
      "source": [
        "ground_truth = np.asarray(ground_truth)"
      ],
      "execution_count": null,
      "outputs": []
    },
    {
      "cell_type": "code",
      "metadata": {
        "id": "HENKqm95dXHR"
      },
      "source": [
        "gt_transformed = np.array([ground_truth[:,0],image.shape[0]-ground_truth[:,1]])\n",
        "gt_transformed = gt_transformed.T"
      ],
      "execution_count": null,
      "outputs": []
    },
    {
      "cell_type": "code",
      "metadata": {
        "id": "fwHbizIVdXHS"
      },
      "source": [
        "input_image = 'images/football.png'"
      ],
      "execution_count": null,
      "outputs": []
    },
    {
      "cell_type": "code",
      "metadata": {
        "id": "GB_V5bMwdXHT"
      },
      "source": [
        "image = cv2.imread(input_image,cv2.IMREAD_COLOR)\n",
        "image = cv2.cvtColor(image,cv2.COLOR_BGR2RGB)"
      ],
      "execution_count": null,
      "outputs": []
    },
    {
      "cell_type": "code",
      "metadata": {
        "id": "I4KGQ5bvdXHT"
      },
      "source": [
        "plt.imshow(image)\n",
        "for point_idx, point in enumerate(ground_truth):\n",
        "    plt.plot(point[0], point[1], 'ob')\n",
        "    plt.text(point[0], point[1], str(point_idx), color=\"red\", fontsize=12)\n"
      ],
      "execution_count": null,
      "outputs": []
    },
    {
      "cell_type": "markdown",
      "metadata": {
        "id": "O5Cg2VwVdXHV"
      },
      "source": [
        "### EVALUATION ###\n",
        "\n",
        "PUT YOUR POINTS IN FIND POINTS"
      ]
    },
    {
      "cell_type": "code",
      "metadata": {
        "id": "2vnaf0GAdXHV"
      },
      "source": [
        "found_points = [[10.26268134006307, 180.1673672235498],\n",
        " [133.4272295929789, 185.4003955044732],\n",
        " [256.8777782376472, 195.8546466239912],\n",
        " [265.854614353606, 23.093056818011],\n",
        " [146.27333995196676, 18.73291351245626],\n",
        " [20.834804475848, 10.72369615667213],\n",
        " ]"
      ],
      "execution_count": null,
      "outputs": []
    },
    {
      "cell_type": "code",
      "metadata": {
        "id": "lKGqzFlQdXHW"
      },
      "source": [
        "gt_transformed.shape"
      ],
      "execution_count": null,
      "outputs": []
    },
    {
      "cell_type": "code",
      "metadata": {
        "id": "ksrKeDjCdXHW"
      },
      "source": [
        "found_points.shape"
      ],
      "execution_count": null,
      "outputs": []
    },
    {
      "cell_type": "code",
      "metadata": {
        "id": "eXtWCJFvdXHW"
      },
      "source": [
        "mse = mean_squared_error(gt_transformed.T,np.asarray(found_points).T)"
      ],
      "execution_count": null,
      "outputs": []
    },
    {
      "cell_type": "code",
      "metadata": {
        "id": "E2P7QTHmdXHX"
      },
      "source": [
        "mse"
      ],
      "execution_count": null,
      "outputs": []
    }
  ]
}