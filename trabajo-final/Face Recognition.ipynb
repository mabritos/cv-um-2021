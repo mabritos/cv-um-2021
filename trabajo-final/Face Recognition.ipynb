{
 "cells": [
  {
   "cell_type": "code",
   "execution_count": null,
   "metadata": {
    "id": "z-JwzsV3x8Yr"
   },
   "outputs": [],
   "source": [
    "#@title \n",
    "from google.colab import drive\n",
    "drive.mount('/content/drive')"
   ]
  },
  {
   "cell_type": "code",
   "execution_count": null,
   "metadata": {
    "id": "UZdQGl5py5EL"
   },
   "outputs": [],
   "source": [
    "%cd /content/drive/MyDrive/computer-vision-um/cv-um-2021/trabajo-final/"
   ]
  },
  {
   "cell_type": "markdown",
   "metadata": {
    "id": "QYz6RPmCyGdX"
   },
   "source": [
    "\n",
    "# Ejercicio 2.2: Face Recognition\n",
    "\n",
    "Tal como se explica en la letra del obligatorio final en este ejercicio es necesario implementar una solucion para reconocimiento de facial. Se proveen datos de entrenamiento y es necesario entrenar un clasificador para hacer el reconocimiento. Todo el código necesario para comenzar a trabajar está provisto en este notebook.\n",
    "\n",
    "\n",
    "\\**En los ejercicios del trabajo final es posible utilizar funciones de librerias existentes o código sacado de internet. Siempre y cuando **no se usen para resolver explicitamente lo que pide el ejercicio** y al código sacado de interenet le agreguen el link en comentarios de donde fue sacado ese código.*\n",
    "\n"
   ]
  },
  {
   "cell_type": "code",
   "execution_count": 1,
   "metadata": {
    "id": "RELk0NVIptA4"
   },
   "outputs": [],
   "source": [
    "import cv2 \n",
    "import numpy as np\n",
    "import os\n",
    "import sklearn \n",
    "import sklearn.neighbors\n",
    "import matplotlib.pyplot as plt\n",
    "import pickle\n",
    "import sys\n",
    "import scipy.io"
   ]
  },
  {
   "cell_type": "markdown",
   "metadata": {
    "id": "3JXhv8jYptA8"
   },
   "source": [
    "\n",
    "\n",
    "### Cargar Datos de Entrenamiento y Validación\n"
   ]
  },
  {
   "cell_type": "code",
   "execution_count": 2,
   "metadata": {
    "id": "UrRc4YGHptA9"
   },
   "outputs": [],
   "source": [
    "data_dir='./data'\n",
    "face_recognition_dir = os.path.join(data_dir, 'face_recognition')\n",
    "training_data_file = os.path.join(face_recognition_dir, 'face_recognition_data_tr.mat')\n",
    "validation_data_file = os.path.join(face_recognition_dir, 'face_recognition_data_va.mat')"
   ]
  },
  {
   "cell_type": "code",
   "execution_count": 3,
   "metadata": {
    "id": "m3dmVXAFptA-"
   },
   "outputs": [],
   "source": [
    "training_data_mat = scipy.io.loadmat(training_data_file)\n",
    "validation_data_mat = scipy.io.loadmat(validation_data_file)"
   ]
  },
  {
   "cell_type": "code",
   "execution_count": 4,
   "metadata": {
    "id": "NptLYA8sptA-"
   },
   "outputs": [],
   "source": [
    "training_data=training_data_mat['tr_img_sample']\n",
    "validation_data = validation_data_mat['va_img_sample']"
   ]
  },
  {
   "cell_type": "markdown",
   "metadata": {
    "id": "h_pUK1Nhz1eE"
   },
   "source": [
    "### Esqueleto de funciones para extracción de Features"
   ]
  },
  {
   "cell_type": "code",
   "execution_count": 20,
   "metadata": {
    "id": "qj9cSW11zzQL"
   },
   "outputs": [],
   "source": [
    "from enum import Enum\n",
    "\n",
    "class FeatureExtractors(Enum):\n",
    "\t\tMiniImage = 1\n",
    "\t\tHOG = 2\n",
    "\t\tLBP = 3\n",
    "\n",
    "def extract_features(method, img):\n",
    "\t'''Switch between Feature extraction Methods'''\n",
    "\n",
    "\timage_representation = []\n",
    "\n",
    "\tif method == FeatureExtractors.MiniImage:\n",
    "\t\timage_representation = extract_mini_image_features(img)\n",
    "\telif method == FeatureExtractors.HOG:\n",
    "\t\timage_representation = extract_hog_features(img)\n",
    "\telif method == FeatureExtractors.LBP:\n",
    "\t\timage_representation = extract_lbp_features(img)\t\n",
    "\t\n",
    "\treturn image_representation\n",
    "\n",
    "def extract_mini_image_features(img,resize_size=(64,64)):\n",
    "\tresized_image = cv2.resize(img,resize_size)\n",
    "\timage_representation = resized_image.reshape(resize_size[0]*resize_size[1])\n",
    "\treturn image_representation\n",
    "  \n",
    "def extract_lbp_features(img):\n",
    "  return []\n",
    "\n",
    "def extract_hog_features(img):\n",
    "  return []\n",
    "\n",
    "\n",
    "   "
   ]
  },
  {
   "cell_type": "markdown",
   "metadata": {
    "id": "KHCBXMJAptA_"
   },
   "source": [
    "### Armar los datos de entrenamiento y sus etiquetas"
   ]
  },
  {
   "cell_type": "code",
   "execution_count": 5,
   "metadata": {
    "id": "VJI80Tk8ptA_"
   },
   "outputs": [],
   "source": [
    "training_images = []\n",
    "training_labels = []\n",
    "for training_image in training_data:\n",
    "    image = (training_image[0]/255)\n",
    "    label = training_image[2]\n",
    "    training_images.append(image.reshape(64*64))\n",
    "    training_labels.append(label.reshape(1))\n",
    "\n",
    "training_images = np.asarray(training_images)\n",
    "training_labels = np.asarray(training_labels)\n",
    "training_labels = training_labels.reshape(training_labels.shape[0])"
   ]
  },
  {
   "cell_type": "code",
   "execution_count": 6,
   "metadata": {
    "id": "OxXEG1AyptBA"
   },
   "outputs": [
    {
     "data": {
      "text/plain": [
       "(368,)"
      ]
     },
     "execution_count": 6,
     "metadata": {},
     "output_type": "execute_result"
    }
   ],
   "source": [
    "training_labels.shape"
   ]
  },
  {
   "cell_type": "markdown",
   "metadata": {
    "id": "PIhGAwPrptBB"
   },
   "source": [
    "### Construir datos de validación y sus etiquetas\n"
   ]
  },
  {
   "cell_type": "code",
   "execution_count": 7,
   "metadata": {
    "id": "0HSgLxEtptBC"
   },
   "outputs": [],
   "source": [
    "validation_images = []\n",
    "validation_labels = []\n",
    "validation_names = []\n",
    "for validation_image in validation_data:\n",
    "    image = (validation_image[0]/255)\n",
    "    label = validation_image[2] \n",
    "    name = validation_image[1][0].split('.')[0]\n",
    "    validation_images.append(image.reshape(64*64))\n",
    "    validation_labels.append(label.reshape(1))\n",
    "    validation_names.append(name)\n",
    "\n",
    "validation_images = np.asarray(validation_images)\n",
    "validation_labels = np.asarray(validation_labels)\n",
    "validation_labels = validation_labels.reshape(validation_labels.shape[0])"
   ]
  },
  {
   "cell_type": "code",
   "execution_count": 24,
   "metadata": {
    "id": "5L0nJy0aptBC"
   },
   "outputs": [
    {
     "data": {
      "text/plain": [
       "KNeighborsClassifier(algorithm='brute', n_neighbors=3)"
      ]
     },
     "execution_count": 24,
     "metadata": {},
     "output_type": "execute_result"
    }
   ],
   "source": [
    "knn_classifier = sklearn.neighbors.KNeighborsClassifier(n_neighbors=3,algorithm='brute')\n",
    "knn_classifier.fit(training_images,training_labels)"
   ]
  },
  {
   "cell_type": "markdown",
   "metadata": {
    "id": "nBAS3HxCptBD"
   },
   "source": [
    "#### Guardar Modelo Entrenado"
   ]
  },
  {
   "cell_type": "code",
   "execution_count": 8,
   "metadata": {
    "id": "GrdVFBTBptBD"
   },
   "outputs": [
    {
     "ename": "NameError",
     "evalue": "name 'knn_classifier' is not defined",
     "output_type": "error",
     "traceback": [
      "\u001b[0;31m---------------------------------------------------------------------------\u001b[0m",
      "\u001b[0;31mNameError\u001b[0m                                 Traceback (most recent call last)",
      "\u001b[0;32m<ipython-input-8-219998bda175>\u001b[0m in \u001b[0;36m<module>\u001b[0;34m\u001b[0m\n\u001b[0;32m----> 1\u001b[0;31m \u001b[0mpickle\u001b[0m\u001b[0;34m.\u001b[0m\u001b[0mdump\u001b[0m\u001b[0;34m(\u001b[0m\u001b[0mknn_classifier\u001b[0m\u001b[0;34m,\u001b[0m\u001b[0mopen\u001b[0m\u001b[0;34m(\u001b[0m\u001b[0;34m'./face_recogition'\u001b[0m\u001b[0;34m,\u001b[0m \u001b[0;34m'wb'\u001b[0m\u001b[0;34m)\u001b[0m\u001b[0;34m)\u001b[0m\u001b[0;34m\u001b[0m\u001b[0;34m\u001b[0m\u001b[0m\n\u001b[0m",
      "\u001b[0;31mNameError\u001b[0m: name 'knn_classifier' is not defined"
     ]
    }
   ],
   "source": [
    "pickle.dump(knn_classifier,open('./face_recogition', 'wb'))"
   ]
  },
  {
   "cell_type": "markdown",
   "metadata": {
    "id": "7QyAHVHKptBE"
   },
   "source": [
    "#### Cargar modelo"
   ]
  },
  {
   "cell_type": "code",
   "execution_count": 26,
   "metadata": {
    "id": "cjzBPFu3ptBE"
   },
   "outputs": [],
   "source": [
    "classifier = pickle.load(open('./face_recogition','rb'))"
   ]
  },
  {
   "cell_type": "markdown",
   "metadata": {
    "id": "4N071KXqptBE"
   },
   "source": [
    "### Clasificar los datos de validación\n"
   ]
  },
  {
   "cell_type": "code",
   "execution_count": 27,
   "metadata": {
    "id": "BZiwMoeqptBE"
   },
   "outputs": [],
   "source": [
    "labels = classifier.predict(validation_images)\n",
    "## Get score for each sliding window patch\n",
    "scores = classifier.predict_proba(validation_images)"
   ]
  },
  {
   "cell_type": "markdown",
   "metadata": {
    "id": "IHfEzPlcptBF"
   },
   "source": [
    "###  Evaluar modelo de Reconocimento"
   ]
  },
  {
   "cell_type": "code",
   "execution_count": 28,
   "metadata": {
    "id": "i5opEc6JptBF"
   },
   "outputs": [],
   "source": [
    "acc = np.mean(labels==validation_labels)*100"
   ]
  },
  {
   "cell_type": "code",
   "execution_count": 29,
   "metadata": {
    "id": "JrREv9-0ptBF"
   },
   "outputs": [
    {
     "name": "stdout",
     "output_type": "stream",
     "text": [
      "The accuracy of face recognition is:16.22 \n",
      "\n"
     ]
    }
   ],
   "source": [
    "print('The accuracy of face recognition is:%.2f \\n' % acc)\n"
   ]
  },
  {
   "cell_type": "markdown",
   "metadata": {
    "id": "g5_H9zrDptBF"
   },
   "source": [
    "### Visualize Recognition ###"
   ]
  },
  {
   "cell_type": "code",
   "execution_count": 30,
   "metadata": {
    "id": "SSW6M4WpptBG",
    "scrolled": true
   },
   "outputs": [
    {
     "data": {
      "image/png": "[encoded data removed]",
      "text/plain": [
       "<Figure size 432x288 with 1 Axes>"
      ]
     },
     "metadata": {
      "needs_background": "light"
     },
     "output_type": "display_data"
    },
    {
     "data": {
      "image/png": "[encoded data removed]",
      "text/plain": [
       "<Figure size 432x288 with 1 Axes>"
      ]
     },
     "metadata": {
      "needs_background": "light"
     },
     "output_type": "display_data"
    },
    {
     "data": {
      "image/png": "[encoded data removed]",
      "text/plain": [
       "<Figure size 432x288 with 1 Axes>"
      ]
     },
     "metadata": {
      "needs_background": "light"
     },
     "output_type": "display_data"
    },
    {
     "data": {
      "image/png": "[encoded data removed]",
      "text/plain": [
       "<Figure size 432x288 with 1 Axes>"
      ]
     },
     "metadata": {
      "needs_background": "light"
     },
     "output_type": "display_data"
    },
    {
     "data": {
      "image/png": "[encoded data removed]",
      "text/plain": [
       "<Figure size 432x288 with 1 Axes>"
      ]
     },
     "metadata": {
      "needs_background": "light"
     },
     "output_type": "display_data"
    }
   ],
   "source": [
    "indexes = [13,50,77,18,110] # You can use Random Sample\n",
    "for index in indexes:\n",
    "    predicted_label=labels[index]\n",
    "    real_label = validation_labels[index]\n",
    "\n",
    "    pred_name = validation_names[np.nonzero(validation_labels==predicted_label)[0][0]]\n",
    "    real_name = validation_names[np.nonzero(validation_labels==real_label)[0][0]]\n",
    "    if real_label==predicted_label:\n",
    "        text='TRUE'\n",
    "        color='g'\n",
    "    else:\n",
    "        text='FALSE'\n",
    "        color='r'\n",
    "    font = {'family': 'serif',\n",
    "            'color':  color,\n",
    "            'weight': 'normal',\n",
    "            'size': 16,\n",
    "            }    \n",
    "    plt.imshow(validation_images[index].reshape(64,64), cmap='gray')\n",
    "    plt.axis('off')\n",
    "    plt.title(text, fontdict=font)\n",
    "    sub_font = {'family': 'serif',\n",
    "            'weight': 'normal',\n",
    "            'size': 14,\n",
    "            }    \n",
    "    plt.text(0.5, 75, 'Pred: {} \\nReal: {}'.format(pred_name[:-5],real_name[:-5]), fontdict=sub_font)\n",
    "\n",
    "    plt.show()\n"
   ]
  },
  {
   "cell_type": "code",
   "execution_count": null,
   "metadata": {},
   "outputs": [],
   "source": []
  },
  {
   "cell_type": "code",
   "execution_count": null,
   "metadata": {
    "id": "GTdCXcw5zE5k"
   },
   "outputs": [],
   "source": [
    "#RESOLUCION DEL EJERCICIO"
   ]
  },
  {
   "cell_type": "code",
   "execution_count": 9,
   "metadata": {},
   "outputs": [],
   "source": [
    "#Imports\n",
    "import cv2 \n",
    "import numpy as np\n",
    "from glob import glob\n",
    "from enum import Enum\n",
    "import os\n",
    "import sklearn \n",
    "import sklearn.neighbors\n",
    "import matplotlib.pyplot as plt\n",
    "import pickle\n",
    "from evaluation import *\n",
    "import sys\n",
    "import math\n",
    "from image_utils import *\n",
    "from skimage.feature import local_binary_pattern, hog\n",
    "from sklearn.svm import SVC"
   ]
  },
  {
   "cell_type": "code",
   "execution_count": 10,
   "metadata": {},
   "outputs": [],
   "source": [
    "class FeatureExtractors(Enum):\n",
    "    MiniImage = 1\n",
    "    HOG = 2\n",
    "    LBP = 3\n",
    "\n",
    "def extract_features(method, img):\n",
    "    '''Switch between Feature extraction Methods'''\n",
    "\n",
    "    image_representation = []\n",
    "\n",
    "    if method == FeatureExtractors.MiniImage:\n",
    "        image_representation = extract_mini_image_features(img)\n",
    "    elif method == FeatureExtractors.HOG:\n",
    "        image_representation = extract_hog_features(img)\n",
    "    elif method == FeatureExtractors.LBP:\n",
    "        image_representation = extract_lbp_features(img)\n",
    "\n",
    "    return image_representation\n",
    "\n",
    "def extract_mini_image_features(img,resize_size=(64,64)):\n",
    "    resized_image = cv2.resize(img,resize_size)\n",
    "    image_representation = resized_image.reshape(resize_size[0]*resize_size[1])\n",
    "    return image_representation\n",
    "\n",
    "\n",
    "def extract_lbp_features(img, radius=3, method='uniform'):\n",
    "    #https://scikit-image.org/docs/dev/auto_examples/features_detection/plot_local_binary_pattern.html#sphx-glr-auto-examples-features-detection-plot-local-binary-pattern-py\n",
    "    n_points = 8 * radius\n",
    "    return local_binary_pattern(img, P=n_points, R=radius, method=method)\n",
    "    \n",
    "\n",
    "def extract_hog_features(img,orientations=8,pixels_per_cell=(16, 16),cells_per_block=(1, 1)):\n",
    "    #https://scikit-image.org/docs/dev/auto_examples/features_detection/plot_hog.html\n",
    "    return hog(img, orientations=orientations, pixels_per_cell=pixels_per_cell, cells_per_block=cells_per_block, feature_vector=True)"
   ]
  },
  {
   "cell_type": "code",
   "execution_count": 11,
   "metadata": {},
   "outputs": [],
   "source": [
    "training_images = []\n",
    "training_labels = []\n",
    "for training_image in training_data:\n",
    "    image = (training_image[0]/255)\n",
    "    label = training_image[2]\n",
    "    training_images.append(image.reshape(64*64))\n",
    "    training_labels.append(label.reshape(1))\n",
    "\n",
    "training_images = np.asarray(training_images)\n",
    "training_labels = np.asarray(training_labels)\n",
    "training_labels = training_labels.reshape(training_labels.shape[0])"
   ]
  },
  {
   "cell_type": "code",
   "execution_count": 91,
   "metadata": {},
   "outputs": [
    {
     "data": {
      "text/plain": [
       "(368,)"
      ]
     },
     "execution_count": 91,
     "metadata": {},
     "output_type": "execute_result"
    }
   ],
   "source": []
  },
  {
   "cell_type": "code",
   "execution_count": 12,
   "metadata": {},
   "outputs": [],
   "source": [
    "validation_images = []\n",
    "validation_labels = []\n",
    "validation_names = []\n",
    "for validation_image in validation_data:\n",
    "    image = (validation_image[0]/255)\n",
    "    label = validation_image[2] \n",
    "    name = validation_image[1][0].split('.')[0]\n",
    "    validation_images.append(image.reshape(64*64))\n",
    "    validation_labels.append(label.reshape(1))\n",
    "    validation_names.append(name)\n",
    "\n",
    "validation_images = np.asarray(validation_images)\n",
    "validation_labels = np.asarray(validation_labels)\n",
    "validation_labels = validation_labels.reshape(validation_labels.shape[0])"
   ]
  },
  {
   "cell_type": "code",
   "execution_count": 13,
   "metadata": {},
   "outputs": [
    {
     "data": {
      "text/plain": [
       "KNeighborsClassifier(algorithm='brute', n_neighbors=3)"
      ]
     },
     "execution_count": 13,
     "metadata": {},
     "output_type": "execute_result"
    }
   ],
   "source": [
    "#En vez de utilizar knn, utilizaremos svm\n",
    "knn_classifier = sklearn.neighbors.KNeighborsClassifier(n_neighbors=3,algorithm='brute')\n",
    "knn_classifier.fit(training_images,training_labels)"
   ]
  },
  {
   "cell_type": "code",
   "execution_count": 18,
   "metadata": {},
   "outputs": [],
   "source": [
    "#SVM\n",
    "def train_svm_classifier(C, kernel, training_data, training_labels, probability=True):\n",
    "    svm_classifier = SVC(C=C, kernel=kernel, probability=probability)\n",
    "    trained_svm_classifier = svm_classifier.fit(training_data, training_labels)\n",
    "    \"\"\"detector_name='./face_detector_svm_'+str(C)+'_'+str(kernel)+'_'+extractor\n",
    "    pickle.dump(svm_classifier, open(detector_name, 'wb'))\n",
    "    trained_svm_classifier = pickle.load(open(detector_name,'rb'))\"\"\"\n",
    "    return trained_svm_classifier"
   ]
  },
  {
   "cell_type": "code",
   "execution_count": 15,
   "metadata": {},
   "outputs": [],
   "source": [
    "svm_clalssifier = train_svm_classifier(2,'linear',training_images,training_labels)"
   ]
  },
  {
   "cell_type": "code",
   "execution_count": 114,
   "metadata": {},
   "outputs": [],
   "source": []
  },
  {
   "cell_type": "code",
   "execution_count": 127,
   "metadata": {},
   "outputs": [],
   "source": []
  },
  {
   "cell_type": "code",
   "execution_count": 149,
   "metadata": {},
   "outputs": [],
   "source": [
    "labels = svm_clalssifier.predict(validation_images)\n",
    "## Get score for each sliding window patch\n",
    "scores = svm_clalssifier.predict_proba(validation_images)"
   ]
  },
  {
   "cell_type": "code",
   "execution_count": 150,
   "metadata": {},
   "outputs": [],
   "source": [
    "acc = np.mean(labels==validation_labels)*100"
   ]
  },
  {
   "cell_type": "code",
   "execution_count": 151,
   "metadata": {},
   "outputs": [
    {
     "name": "stdout",
     "output_type": "stream",
     "text": [
      "The accuracy of face recognition is:37.84 \n",
      "\n"
     ]
    }
   ],
   "source": [
    "print('The accuracy of face recognition is:%.2f \\n' % acc)"
   ]
  },
  {
   "cell_type": "code",
   "execution_count": null,
   "metadata": {},
   "outputs": [],
   "source": []
  },
  {
   "cell_type": "code",
   "execution_count": null,
   "metadata": {},
   "outputs": [],
   "source": []
  },
  {
   "cell_type": "code",
   "execution_count": 17,
   "metadata": {},
   "outputs": [
    {
     "name": "stdout",
     "output_type": "stream",
     "text": [
      "Kernel: linear C: 0.01 The accuracy of face recognition is:27.93 \n",
      "\n",
      "Kernel: linear C: 0.1 The accuracy of face recognition is:37.84 \n",
      "\n",
      "Kernel: linear C: 0.5 The accuracy of face recognition is:37.84 \n",
      "\n",
      "Kernel: linear C: 1 The accuracy of face recognition is:37.84 \n",
      "\n",
      "Kernel: linear C: 2 The accuracy of face recognition is:37.84 \n",
      "\n",
      "Kernel: linear C: 5 The accuracy of face recognition is:37.84 \n",
      "\n",
      "Kernel: poly C: 0.01 The accuracy of face recognition is:29.73 \n",
      "\n",
      "Kernel: poly C: 0.1 The accuracy of face recognition is:36.04 \n",
      "\n",
      "Kernel: poly C: 0.5 The accuracy of face recognition is:36.04 \n",
      "\n",
      "Kernel: poly C: 1 The accuracy of face recognition is:36.04 \n",
      "\n",
      "Kernel: poly C: 2 The accuracy of face recognition is:36.04 \n",
      "\n",
      "Kernel: poly C: 5 The accuracy of face recognition is:36.04 \n",
      "\n",
      "Kernel: rbf C: 0.01 The accuracy of face recognition is:7.21 \n",
      "\n",
      "Kernel: rbf C: 0.1 The accuracy of face recognition is:7.21 \n",
      "\n",
      "Kernel: rbf C: 0.5 The accuracy of face recognition is:8.11 \n",
      "\n",
      "Kernel: rbf C: 1 The accuracy of face recognition is:21.62 \n",
      "\n",
      "Kernel: rbf C: 2 The accuracy of face recognition is:26.13 \n",
      "\n",
      "Kernel: rbf C: 5 The accuracy of face recognition is:29.73 \n",
      "\n",
      "Kernel: sigmoid C: 0.01 The accuracy of face recognition is:2.70 \n",
      "\n",
      "Kernel: sigmoid C: 0.1 The accuracy of face recognition is:2.70 \n",
      "\n",
      "Kernel: sigmoid C: 0.5 The accuracy of face recognition is:2.70 \n",
      "\n",
      "Kernel: sigmoid C: 1 The accuracy of face recognition is:2.70 \n",
      "\n",
      "Kernel: sigmoid C: 2 The accuracy of face recognition is:2.70 \n",
      "\n",
      "Kernel: sigmoid C: 5 The accuracy of face recognition is:2.70 \n",
      "\n"
     ]
    }
   ],
   "source": [
    "for kernel in ['linear', 'poly', 'rbf', 'sigmoid']:\n",
    "    for c in [0.01, 0.1, 0.5, 1, 2, 5]:\n",
    "        svm_clalssifier = train_svm_classifier(c,kernel,training_images,training_labels)\n",
    "        labels = svm_clalssifier.predict(validation_images)\n",
    "        scores = svm_clalssifier.predict_proba(validation_images)\n",
    "        acc = np.mean(labels==validation_labels)*100\n",
    "        print('Kernel: '+kernel+' C: '+str(c)+' The accuracy of face recognition is:%.2f \\n' % acc)    "
   ]
  },
  {
   "cell_type": "code",
   "execution_count": null,
   "metadata": {},
   "outputs": [],
   "source": []
  }
 ],
 "metadata": {
  "colab": {
   "collapsed_sections": [
    "h_pUK1Nhz1eE"
   ],
   "name": "Face Recognition.ipynb",
   "provenance": []
  },
  "kernelspec": {
   "display_name": "Python 3",
   "language": "python",
   "name": "python3"
  },
  "language_info": {
   "codemirror_mode": {
    "name": "ipython",
    "version": 3
   },
   "file_extension": ".py",
   "mimetype": "text/x-python",
   "name": "python",
   "nbconvert_exporter": "python",
   "pygments_lexer": "ipython3",
   "version": "3.6.13"
  }
 },
 "nbformat": 4,
 "nbformat_minor": 1
}
